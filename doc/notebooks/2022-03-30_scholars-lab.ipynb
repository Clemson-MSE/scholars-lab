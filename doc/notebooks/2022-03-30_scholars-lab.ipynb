{
 "cells": [
  {
   "cell_type": "code",
   "execution_count": 1,
   "metadata": {},
   "outputs": [],
   "source": [
    "import pandas as pd\n",
    "import matplotlib.pyplot as plt"
   ]
  },
  {
   "cell_type": "code",
   "execution_count": 2,
   "metadata": {},
   "outputs": [
    {
     "name": "stdout",
     "output_type": "stream",
     "text": [
      "Python implementation: CPython\n",
      "Python version       : 3.8.3\n",
      "IPython version      : 7.16.1\n",
      "\n",
      "jupyterlab: 3.0.14\n",
      "pandas    : 1.0.5\n",
      "numpy     : 1.18.5\n",
      "matplotlib: 3.2.2\n",
      "\n"
     ]
    }
   ],
   "source": [
    "%load_ext watermark\n",
    "%watermark -v -p jupyterlab,pandas,numpy,matplotlib"
   ]
  },
  {
   "cell_type": "code",
   "execution_count": 3,
   "metadata": {},
   "outputs": [],
   "source": [
    "results_dir = '../../results/'"
   ]
  },
  {
   "cell_type": "markdown",
   "metadata": {},
   "source": [
    "### Reusable functions"
   ]
  },
  {
   "cell_type": "code",
   "execution_count": 4,
   "metadata": {},
   "outputs": [],
   "source": [
    "# read data from Google spreadhsheet\n",
    "def read_spreadsheet(url, usecols=None):\n",
    "    df = pd.read_csv(gsheet, usecols=usecols)\n",
    "    return df\n",
    "\n",
    "# tidy the spreadsheet (fill missing entries, select rows of interest)\n",
    "def tidy_spreadsheet(df):\n",
    "    df.fillna(method='ffill', inplace=True)\n",
    "    df = df[df['resolution [um]']==2]\n",
    "    return df\n",
    "\n",
    "# plot areal capacity over C rate grouped by model\n",
    "def plot_rate_capability(df):\n",
    "    fig, ax = plt.subplots()\n",
    "    for model, group in selection.groupby('model'):\n",
    "        group.sort_values('C rate').plot(ax=ax, x='C rate',y='areal capacity [mAh/cm^2]', style='o:', label=model)\n",
    "    ax.set_ylabel('areal capacity [mAh/cm^2]')\n",
    "    ax.set_title('Rate capability')\n",
    "    return fig"
   ]
  },
  {
   "cell_type": "markdown",
   "metadata": {},
   "source": [
    "# 2022-03-30"
   ]
  },
  {
   "cell_type": "markdown",
   "metadata": {},
   "source": [
    "## Rate capability test: plot areal capacity vs. C rate"
   ]
  },
  {
   "cell_type": "code",
   "execution_count": null,
   "metadata": {},
   "outputs": [],
   "source": [
    "url = 'https://docs.google.com/spreadsheets/d/{0}/gviz/tq?tqx=out:csv&sheet={1}'\n",
    "id = '15vbOegdAU5uqhVeeIlGz15Q0Rvbn48dl1YpZQJtiTAs'\n",
    "\n",
    "gsheet = url.format(id,'Results')\n",
    "\n",
    "df = read_spreadsheet(gsheet, usecols=range(12))\n",
    "df = tidy_spreadsheet(df)\n",
    "\n",
    "selection = df[df['mass loading [mg/cm^2]'].between(30.329,30.388)]\n",
    "\n",
    "plot_rate_capability(selection)\n",
    "\n",
    "df.to_csv(results_dir+'rate-capability.csv')\n",
    "plt.savefig(results_dir+'rate-capbility.png')"
   ]
  }
 ],
 "metadata": {
  "kernelspec": {
   "display_name": "Python 3",
   "language": "python",
   "name": "python3"
  },
  "language_info": {
   "codemirror_mode": {
    "name": "ipython",
    "version": 3
   },
   "file_extension": ".py",
   "mimetype": "text/x-python",
   "name": "python",
   "nbconvert_exporter": "python",
   "pygments_lexer": "ipython3",
   "version": "3.8.3"
  }
 },
 "nbformat": 4,
 "nbformat_minor": 4
}
